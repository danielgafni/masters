{
 "cells": [
  {
   "cell_type": "code",
   "execution_count": 1,
   "id": "0f53c77f",
   "metadata": {},
   "outputs": [],
   "source": [
    "from masters.networks.mlp import make_mlp"
   ]
  },
  {
   "cell_type": "code",
   "execution_count": 2,
   "id": "f8723686",
   "metadata": {},
   "outputs": [],
   "source": [
    "mlp = make_mlp(input_shape=[4], hidden_layer_shapes=[[4]], output_shape=[2])"
   ]
  },
  {
   "cell_type": "code",
   "execution_count": 3,
   "id": "a27d2b5d",
   "metadata": {},
   "outputs": [
    {
     "data": {
      "text/plain": [
       "Network(\n",
       "  (In): Input()\n",
       "  (l1): LIFNodes()\n",
       "  (Out): LIFNodes()\n",
       "  (In_to_l1): Connection(\n",
       "    (source): Input()\n",
       "    (target): LIFNodes()\n",
       "  )\n",
       "  (l2_to_Out): Connection(\n",
       "    (source): LIFNodes()\n",
       "    (target): LIFNodes()\n",
       "  )\n",
       ")"
      ]
     },
     "execution_count": 3,
     "metadata": {},
     "output_type": "execute_result"
    }
   ],
   "source": [
    "mlp"
   ]
  },
  {
   "cell_type": "code",
   "execution_count": null,
   "id": "71ac35c4",
   "metadata": {},
   "outputs": [],
   "source": []
  }
 ],
 "metadata": {
  "kernelspec": {
   "display_name": "Python 3 (ipykernel)",
   "language": "python",
   "name": "python3"
  },
  "language_info": {
   "codemirror_mode": {
    "name": "ipython",
    "version": 3
   },
   "file_extension": ".py",
   "mimetype": "text/x-python",
   "name": "python",
   "nbconvert_exporter": "python",
   "pygments_lexer": "ipython3",
   "version": "3.8.9"
  }
 },
 "nbformat": 4,
 "nbformat_minor": 5
}
