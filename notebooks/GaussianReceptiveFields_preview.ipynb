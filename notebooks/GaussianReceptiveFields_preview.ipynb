{
 "cells": [
  {
   "cell_type": "code",
   "execution_count": 1,
   "id": "4e2af1a4",
   "metadata": {},
   "outputs": [],
   "source": [
    "import torch\n",
    "\n",
    "from bindsnet.encoding.preprocessing import GaussianReceptiveFields"
   ]
  },
  {
   "cell_type": "code",
   "execution_count": 2,
   "id": "0a1ac849",
   "metadata": {},
   "outputs": [],
   "source": [
    "g = GaussianReceptiveFields(\n",
    "    low=-1, high=1, n=5, scale=0.5\n",
    ")"
   ]
  },
  {
   "cell_type": "code",
   "execution_count": 3,
   "id": "570b13c8",
   "metadata": {},
   "outputs": [
    {
     "data": {
      "text/plain": [
       "tensor([[0.1080],\n",
       "        [0.4839],\n",
       "        [0.7979],\n",
       "        [0.4839],\n",
       "        [0.1080]])"
      ]
     },
     "execution_count": 3,
     "metadata": {},
     "output_type": "execute_result"
    }
   ],
   "source": [
    "g(torch.zeros(1))"
   ]
  },
  {
   "cell_type": "code",
   "execution_count": 4,
   "id": "4110a678",
   "metadata": {},
   "outputs": [
    {
     "data": {
      "text/plain": [
       "torch.Size([5, 3, 2, 1])"
      ]
     },
     "execution_count": 4,
     "metadata": {},
     "output_type": "execute_result"
    }
   ],
   "source": [
    "g(torch.rand(3, 2, 1)).shape"
   ]
  },
  {
   "cell_type": "code",
   "execution_count": 5,
   "id": "1a89c08d",
   "metadata": {},
   "outputs": [],
   "source": [
    "# this one includes poisson encoder. I'll change that later to leave the final encoder choice to the user\n",
    "from bindsnet.encoding.encoders import GaussianReceptiveFieldsEncoder\n",
    "from matplotlib import pyplot as plt"
   ]
  },
  {
   "cell_type": "code",
   "execution_count": 6,
   "id": "95e388f6",
   "metadata": {},
   "outputs": [],
   "source": [
    "encoder = GaussianReceptiveFieldsEncoder(\n",
    "    encoding_info={0: dict(start=-10, end=10, n=20, scale=0.5)},  # encodes feature 0\n",
    "    time=100\n",
    ")"
   ]
  },
  {
   "cell_type": "code",
   "execution_count": 7,
   "id": "8e2ab325",
   "metadata": {},
   "outputs": [
    {
     "data": {
      "text/plain": [
       "torch.Size([100, 20, 3, 2])"
      ]
     },
     "execution_count": 7,
     "metadata": {},
     "output_type": "execute_result"
    }
   ],
   "source": [
    "# adds time spikes dimension and number of receptive fields dimension\n",
    "encoder(torch.rand(1, 3, 2)).shape"
   ]
  },
  {
   "cell_type": "code",
   "execution_count": 8,
   "id": "56e47f56",
   "metadata": {},
   "outputs": [],
   "source": [
    "# encode values -7, 0 and 4\n",
    "encoded = encoder(torch.tensor([[-7, 0, 4]]))"
   ]
  },
  {
   "cell_type": "code",
   "execution_count": 9,
   "id": "e278685c",
   "metadata": {},
   "outputs": [
    {
     "data": {
      "text/plain": [
       "<matplotlib.image.AxesImage at 0x7fe69ec743d0>"
      ]
     },
     "execution_count": 9,
     "metadata": {},
     "output_type": "execute_result"
    },
    {
     "data": {
      "image/png": "[encoded data removed]",
      "text/plain": [
       "<Figure size 432x288 with 1 Axes>"
      ]
     },
     "metadata": {
      "needs_background": "light"
     },
     "output_type": "display_data"
    }
   ],
   "source": [
    "# -7\n",
    "plt.imshow(encoded[..., 0].t())"
   ]
  },
  {
   "cell_type": "code",
   "execution_count": 10,
   "id": "cdf42863",
   "metadata": {},
   "outputs": [
    {
     "data": {
      "text/plain": [
       "<matplotlib.image.AxesImage at 0x7fe69cb61340>"
      ]
     },
     "execution_count": 10,
     "metadata": {},
     "output_type": "execute_result"
    },
    {
     "data": {
      "image/png": "[encoded data removed]",
      "text/plain": [
       "<Figure size 432x288 with 1 Axes>"
      ]
     },
     "metadata": {
      "needs_background": "light"
     },
     "output_type": "display_data"
    }
   ],
   "source": [
    "# 0\n",
    "plt.imshow(encoded[..., 1].t())"
   ]
  },
  {
   "cell_type": "code",
   "execution_count": 11,
   "id": "33b50ac7",
   "metadata": {},
   "outputs": [
    {
     "data": {
      "text/plain": [
       "<matplotlib.image.AxesImage at 0x7fe69cb42be0>"
      ]
     },
     "execution_count": 11,
     "metadata": {},
     "output_type": "execute_result"
    },
    {
     "data": {
      "image/png": "[encoded data removed]",
      "text/plain": [
       "<Figure size 432x288 with 1 Axes>"
      ]
     },
     "metadata": {
      "needs_background": "light"
     },
     "output_type": "display_data"
    }
   ],
   "source": [
    "# 4\n",
    "plt.imshow(encoded[..., 2].t())"
   ]
  },
  {
   "cell_type": "code",
   "execution_count": null,
   "id": "225a6350",
   "metadata": {},
   "outputs": [],
   "source": []
  }
 ],
 "metadata": {
  "kernelspec": {
   "display_name": "Python 3 (ipykernel)",
   "language": "python",
   "name": "python3"
  },
  "language_info": {
   "codemirror_mode": {
    "name": "ipython",
    "version": 3
   },
   "file_extension": ".py",
   "mimetype": "text/x-python",
   "name": "python",
   "nbconvert_exporter": "python",
   "pygments_lexer": "ipython3",
   "version": "3.8.9"
  }
 },
 "nbformat": 4,
 "nbformat_minor": 5
}
