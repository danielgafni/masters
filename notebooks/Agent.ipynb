{
 "cells": [
  {
   "cell_type": "code",
   "execution_count": 1,
   "id": "628ce425",
   "metadata": {},
   "outputs": [],
   "source": [
    "from masters.env_wrapper import make_wrapped_env\n",
    "from masters.networks.mlp import make_mlp\n",
    "from masters.a2c.trainer import A2CTrainer\n",
    "from masters.a2c.agent import A2CAgent\n",
    "from masters.data import cartpole_info\n",
    "from bindsnet.encoding.encoders import GaussianReceptiveFieldsEncoder\n",
    "from IPython.display import Image\n",
    "import torch\n",
    "from matplotlib import pyplot as plt"
   ]
  },
  {
   "cell_type": "code",
   "execution_count": 2,
   "id": "65e1d03f",
   "metadata": {},
   "outputs": [],
   "source": [
    "device = torch.device(\"cuda\") if torch.cuda.is_available() else torch.device(\"cpu\")"
   ]
  },
  {
   "cell_type": "code",
   "execution_count": 3,
   "id": "10c85c3d",
   "metadata": {},
   "outputs": [],
   "source": [
    "encoder = GaussianReceptiveFieldsEncoder(encoding_info=cartpole_info, intensity=200)"
   ]
  },
  {
   "cell_type": "code",
   "execution_count": 33,
   "id": "cff3ee68",
   "metadata": {},
   "outputs": [],
   "source": [
    "actor = make_mlp(\n",
    "    input_shape=[80],\n",
    "    output_shape=[10, 2],\n",
    "    nu=[1e-3, 1e-1],\n",
    "    norm=0.6,\n",
    "#     hidden_layer_shapes=[[100]],\n",
    "    time=100,\n",
    "    dev=True\n",
    ")\n",
    "critic = make_mlp(\n",
    "    input_shape=[80],\n",
    "    output_shape=[1],\n",
    "    nu=[1e-3, 1e-1],\n",
    "    norm=0.6,\n",
    "#     hidden_layer_shapes=[[100]],\n",
    "    time=100,\n",
    "    dev=True\n",
    ")\n",
    "prev_critic = make_mlp(\n",
    "    input_shape=[80],\n",
    "    output_shape=[1],\n",
    "    nu=[1e-3, 1e-1],\n",
    "    norm=0.6,\n",
    "#     hidden_layer_shapes=[[100]],\n",
    "    time=100,\n",
    "    dev=True\n",
    ")"
   ]
  },
  {
   "cell_type": "code",
   "execution_count": 34,
   "id": "555e4312",
   "metadata": {},
   "outputs": [],
   "source": [
    "agent = A2CAgent(\n",
    "    actor=actor,\n",
    "    critic=critic,\n",
    "    prev_critic=prev_critic,\n",
    "    encoder=encoder\n",
    ")"
   ]
  },
  {
   "cell_type": "code",
   "execution_count": null,
   "id": "0dd4fb33",
   "metadata": {},
   "outputs": [],
   "source": []
  },
  {
   "cell_type": "code",
   "execution_count": 35,
   "id": "0f3d9fb3",
   "metadata": {},
   "outputs": [
    {
     "data": {
      "text/plain": [
       "<matplotlib.image.AxesImage at 0x7f1a90304460>"
      ]
     },
     "execution_count": 35,
     "metadata": {},
     "output_type": "execute_result"
    },
    {
     "data": {
      "image/png": "[encoded data removed]",
      "text/plain": [
       "<Figure size 432x288 with 1 Axes>"
      ]
     },
     "metadata": {
      "needs_background": "light"
     },
     "output_type": "display_data"
    }
   ],
   "source": [
    "plt.imshow(agent.actor.connections[(\"In\", \"Out\")].w.numpy().T)"
   ]
  },
  {
   "cell_type": "code",
   "execution_count": 36,
   "id": "5ca65ac1",
   "metadata": {},
   "outputs": [],
   "source": [
    "agent.to(device)"
   ]
  },
  {
   "cell_type": "code",
   "execution_count": 37,
   "id": "e95ba4d2",
   "metadata": {},
   "outputs": [],
   "source": [
    "trainer = A2CTrainer(num_episodes=10, spikes_to_value=1)#, device=device)"
   ]
  },
  {
   "cell_type": "code",
   "execution_count": 38,
   "id": "4512329f",
   "metadata": {},
   "outputs": [],
   "source": [
    "# episode = trainer.play_episode(agent, \"CartPole-v0\", render=True)"
   ]
  },
  {
   "cell_type": "code",
   "execution_count": 39,
   "id": "b70f07b1",
   "metadata": {},
   "outputs": [],
   "source": [
    "# episode.render_replay(\"out.gif\")"
   ]
  },
  {
   "cell_type": "code",
   "execution_count": 40,
   "id": "16a76b4c",
   "metadata": {},
   "outputs": [],
   "source": [
    "# Image(\"out.gif\")"
   ]
  },
  {
   "cell_type": "code",
   "execution_count": 41,
   "id": "1f2e1737",
   "metadata": {},
   "outputs": [
    {
     "name": "stdout",
     "output_type": "stream",
     "text": [
      "13.0\n",
      "9.0\n",
      "13.0\n",
      "11.0\n",
      "14.0\n",
      "11.0\n",
      "12.0\n",
      "12.0\n",
      "14.0\n",
      "9.0\n"
     ]
    }
   ],
   "source": [
    "trainer.fit(agent, \"CartPole-v0\")"
   ]
  },
  {
   "cell_type": "code",
   "execution_count": 42,
   "id": "71adefb4",
   "metadata": {},
   "outputs": [
    {
     "data": {
      "text/plain": [
       "<matplotlib.image.AxesImage at 0x7f1a90278880>"
      ]
     },
     "execution_count": 42,
     "metadata": {},
     "output_type": "execute_result"
    },
    {
     "data": {
      "image/png": "[encoded data removed]",
      "text/plain": [
       "<Figure size 432x288 with 1 Axes>"
      ]
     },
     "metadata": {
      "needs_background": "light"
     },
     "output_type": "display_data"
    }
   ],
   "source": [
    "plt.imshow(agent.actor.connections[(\"In\", \"Out\")].w.numpy().T)"
   ]
  },
  {
   "cell_type": "code",
   "execution_count": null,
   "id": "d96f4871",
   "metadata": {},
   "outputs": [],
   "source": []
  },
  {
   "cell_type": "code",
   "execution_count": 32,
   "id": "246ac597",
   "metadata": {},
   "outputs": [
    {
     "data": {
      "text/plain": [
       "<matplotlib.image.AxesImage at 0x7f1a90386df0>"
      ]
     },
     "execution_count": 32,
     "metadata": {},
     "output_type": "execute_result"
    },
    {
     "data": {
      "image/png": "[encoded data removed]",
      "text/plain": [
       "<Figure size 432x288 with 1 Axes>"
      ]
     },
     "metadata": {
      "needs_background": "light"
     },
     "output_type": "display_data"
    }
   ],
   "source": [
    "plt.imshow(agent.actor.monitors[\"Out\"].get(\"s\").view(100, -1).t())"
   ]
  },
  {
   "cell_type": "code",
   "execution_count": 15,
   "id": "3a795920",
   "metadata": {},
   "outputs": [],
   "source": [
    "episode = trainer.play_episode(agent, \"CartPole-v0\", render=True)"
   ]
  },
  {
   "cell_type": "code",
   "execution_count": 16,
   "id": "2b0e8031",
   "metadata": {},
   "outputs": [],
   "source": [
    "transition = episode.transitions[0]"
   ]
  },
  {
   "cell_type": "code",
   "execution_count": null,
   "id": "387685a3",
   "metadata": {},
   "outputs": [],
   "source": []
  },
  {
   "cell_type": "code",
   "execution_count": 20,
   "id": "01499d5c",
   "metadata": {},
   "outputs": [
    {
     "data": {
      "text/plain": [
       "0"
      ]
     },
     "execution_count": 20,
     "metadata": {},
     "output_type": "execute_result"
    }
   ],
   "source": [
    "agent.run_actor(\n",
    "    observation=torch.from_numpy(transition.observation),\n",
    ")"
   ]
  },
  {
   "cell_type": "code",
   "execution_count": 18,
   "id": "d2739d3a",
   "metadata": {},
   "outputs": [
    {
     "data": {
      "text/plain": [
       "1.0"
      ]
     },
     "execution_count": 18,
     "metadata": {},
     "output_type": "execute_result"
    }
   ],
   "source": [
    "trainer.compute_delta(\n",
    "    agent,\n",
    "    observation=torch.from_numpy(transition.observation),\n",
    "    prev_observation=torch.from_numpy(transition.prev_observation),\n",
    "    reward=transition.reward\n",
    ")"
   ]
  },
  {
   "cell_type": "code",
   "execution_count": 24,
   "id": "7bbb8d22",
   "metadata": {},
   "outputs": [
    {
     "data": {
      "text/plain": [
       "50.0"
      ]
     },
     "execution_count": 24,
     "metadata": {},
     "output_type": "execute_result"
    }
   ],
   "source": [
    "agent.run_critic(torch.from_numpy(transition.observation))"
   ]
  },
  {
   "cell_type": "code",
   "execution_count": 25,
   "id": "b7006e11",
   "metadata": {},
   "outputs": [
    {
     "data": {
      "text/plain": [
       "50.0"
      ]
     },
     "execution_count": 25,
     "metadata": {},
     "output_type": "execute_result"
    }
   ],
   "source": [
    "agent.run_prev_critic(torch.from_numpy(transition.prev_observation))"
   ]
  },
  {
   "cell_type": "code",
   "execution_count": 54,
   "id": "dc19dfa6",
   "metadata": {},
   "outputs": [
    {
     "data": {
      "text/plain": [
       "<matplotlib.image.AxesImage at 0x7fec0941a7f0>"
      ]
     },
     "execution_count": 54,
     "metadata": {},
     "output_type": "execute_result"
    },
    {
     "data": {
      "image/png": "[encoded data removed]",
      "text/plain": [
       "<Figure size 432x288 with 1 Axes>"
      ]
     },
     "metadata": {
      "needs_background": "light"
     },
     "output_type": "display_data"
    }
   ],
   "source": [
    "plt.imshow(agent.critique.monitors[\"Out\"].get(\"s\").view(100, -1).t())"
   ]
  },
  {
   "cell_type": "code",
   "execution_count": null,
   "id": "12f650db",
   "metadata": {},
   "outputs": [],
   "source": []
  },
  {
   "cell_type": "code",
   "execution_count": null,
   "id": "fad99ca5",
   "metadata": {},
   "outputs": [],
   "source": []
  },
  {
   "cell_type": "code",
   "execution_count": null,
   "id": "08ee2e17",
   "metadata": {},
   "outputs": [],
   "source": []
  },
  {
   "cell_type": "code",
   "execution_count": null,
   "id": "c264047a",
   "metadata": {},
   "outputs": [],
   "source": [
    "agent.actor.monitors[\"Out\"].get(\"s\").squeeze(1).sum()"
   ]
  },
  {
   "cell_type": "code",
   "execution_count": null,
   "id": "5fd43073",
   "metadata": {},
   "outputs": [],
   "source": [
    "agent.actor.connections[(\"In\", \"l1\")].w.numpy().mean()"
   ]
  },
  {
   "cell_type": "code",
   "execution_count": null,
   "id": "151c259c",
   "metadata": {},
   "outputs": [],
   "source": [
    "agent.actor.layers[\"Out\"].shape"
   ]
  },
  {
   "cell_type": "code",
   "execution_count": null,
   "id": "4c8f3c23",
   "metadata": {},
   "outputs": [],
   "source": [
    "clamp = torch.BoolTensor([0, 1])"
   ]
  },
  {
   "cell_type": "code",
   "execution_count": null,
   "id": "a9fced32",
   "metadata": {},
   "outputs": [],
   "source": [
    "clamp[..., 0] = 1"
   ]
  },
  {
   "cell_type": "code",
   "execution_count": null,
   "id": "15fca2a3",
   "metadata": {},
   "outputs": [],
   "source": [
    "clamp"
   ]
  },
  {
   "cell_type": "code",
   "execution_count": null,
   "id": "da7c5615",
   "metadata": {},
   "outputs": [],
   "source": []
  }
 ],
 "metadata": {
  "kernelspec": {
   "display_name": "Python 3 (ipykernel)",
   "language": "python",
   "name": "python3"
  },
  "language_info": {
   "codemirror_mode": {
    "name": "ipython",
    "version": 3
   },
   "file_extension": ".py",
   "mimetype": "text/x-python",
   "name": "python",
   "nbconvert_exporter": "python",
   "pygments_lexer": "ipython3",
   "version": "3.8.9"
  }
 },
 "nbformat": 4,
 "nbformat_minor": 5
}
