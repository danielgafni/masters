{
 "cells": [
  {
   "cell_type": "code",
   "execution_count": 2,
   "id": "628ce425",
   "metadata": {},
   "outputs": [],
   "source": [
    "from masters.env_wrapper import make_wrapped_env\n",
    "from masters.networks.mlp import make_mlp\n",
    "from masters.a2c.trainer import A2CTrainer\n",
    "from masters.a2c.agent import A2CAgent\n",
    "from masters.data import cartpole_info\n",
    "from bindsnet.encoding.encoders import GaussianReceptiveFieldsEncoder\n",
    "from IPython.display import Image\n",
    "import torch\n",
    "from matplotlib import pyplot as plt"
   ]
  },
  {
   "cell_type": "code",
   "execution_count": 3,
   "id": "65e1d03f",
   "metadata": {},
   "outputs": [],
   "source": [
    "device = torch.device(\"cuda\") if torch.cuda.is_available() else torch.device(\"cpu\")"
   ]
  },
  {
   "cell_type": "code",
   "execution_count": 4,
   "id": "10c85c3d",
   "metadata": {},
   "outputs": [],
   "source": [
    "encoder = GaussianReceptiveFieldsEncoder(encoding_info=cartpole_info, intensity=200)"
   ]
  },
  {
   "cell_type": "code",
   "execution_count": 5,
   "id": "cff3ee68",
   "metadata": {},
   "outputs": [],
   "source": [
    "actor = make_mlp(\n",
    "    input_shape=[80],\n",
    "    output_shape=[10, 2],\n",
    "    nu=[1e-3, 1e-1],\n",
    "    norm=0.7,\n",
    "    time=100,\n",
    "    dev=True\n",
    ")\n",
    "critic = make_mlp(\n",
    "    input_shape=[80],\n",
    "    output_shape=[100],\n",
    "    nu=[1e-3, 1e-1],\n",
    "    norm=0.7,\n",
    "    time=100,\n",
    "    dev=True\n",
    ")\n",
    "prev_critic = critic.clone()"
   ]
  },
  {
   "cell_type": "code",
   "execution_count": 6,
   "id": "555e4312",
   "metadata": {},
   "outputs": [],
   "source": [
    "agent = A2CAgent(\n",
    "    actor=actor,\n",
    "    critic=critic,\n",
    "    prev_critic=prev_critic,\n",
    "    encoder=encoder\n",
    ")"
   ]
  },
  {
   "cell_type": "code",
   "execution_count": 7,
   "id": "5ca65ac1",
   "metadata": {},
   "outputs": [],
   "source": [
    "agent.to(device)"
   ]
  },
  {
   "cell_type": "code",
   "execution_count": 8,
   "id": "e95ba4d2",
   "metadata": {},
   "outputs": [],
   "source": [
    "trainer = A2CTrainer(\n",
    "    num_episodes=500,\n",
    "    spikes_to_value=1,\n",
    "    lr=0.01\n",
    ")#, device=device)"
   ]
  },
  {
   "cell_type": "code",
   "execution_count": 9,
   "id": "4512329f",
   "metadata": {},
   "outputs": [],
   "source": [
    "# episode = trainer.play_episode(agent, \"CartPole-v0\", render=True)"
   ]
  },
  {
   "cell_type": "code",
   "execution_count": 10,
   "id": "b70f07b1",
   "metadata": {},
   "outputs": [],
   "source": [
    "# episode.render_replay(\"out.gif\")"
   ]
  },
  {
   "cell_type": "code",
   "execution_count": 11,
   "id": "16a76b4c",
   "metadata": {},
   "outputs": [],
   "source": [
    "# Image(\"out.gif\")"
   ]
  },
  {
   "cell_type": "code",
   "execution_count": 12,
   "id": "13d83080",
   "metadata": {},
   "outputs": [
    {
     "data": {
      "text/plain": [
       "<matplotlib.image.AxesImage at 0x7f3029e20520>"
      ]
     },
     "execution_count": 12,
     "metadata": {},
     "output_type": "execute_result"
    },
    {
     "data": {
      "image/png": "[encoded data removed]",
      "text/plain": [
       "<Figure size 432x288 with 1 Axes>"
      ]
     },
     "metadata": {
      "needs_background": "light"
     },
     "output_type": "display_data"
    }
   ],
   "source": [
    "plt.imshow(agent.actor.connections[(\"In\", \"Out\")].w.cpu().numpy().T)"
   ]
  },
  {
   "cell_type": "code",
   "execution_count": 13,
   "id": "1f2e1737",
   "metadata": {},
   "outputs": [
    {
     "name": "stdout",
     "output_type": "stream",
     "text": [
      "111.0\n",
      "9.0\n",
      "9.0\n",
      "12.0\n",
      "10.0\n",
      "28.0\n",
      "11.0\n",
      "11.0\n",
      "14.0\n",
      "10.0\n",
      "26.0\n",
      "9.0\n",
      "15.0\n",
      "16.0\n",
      "10.0\n",
      "18.0\n",
      "12.0\n",
      "15.0\n",
      "12.0\n",
      "9.0\n",
      "30.0\n",
      "30.0\n",
      "10.0\n",
      "12.0\n",
      "16.0\n",
      "27.0\n",
      "34.0\n",
      "13.0\n",
      "16.0\n",
      "10.0\n",
      "14.0\n",
      "11.0\n",
      "9.0\n",
      "9.0\n",
      "12.0\n",
      "24.0\n",
      "23.0\n",
      "20.0\n",
      "9.0\n",
      "33.0\n",
      "14.0\n",
      "14.0\n",
      "30.0\n",
      "19.0\n",
      "9.0\n",
      "31.0\n",
      "11.0\n",
      "13.0\n",
      "33.0\n",
      "14.0\n",
      "36.0\n",
      "15.0\n",
      "38.0\n",
      "21.0\n",
      "18.0\n",
      "17.0\n",
      "19.0\n",
      "16.0\n",
      "22.0\n",
      "51.0\n",
      "20.0\n",
      "23.0\n",
      "16.0\n",
      "11.0\n",
      "26.0\n",
      "23.0\n",
      "19.0\n",
      "30.0\n",
      "15.0\n",
      "13.0\n",
      "20.0\n",
      "12.0\n",
      "26.0\n",
      "21.0\n",
      "14.0\n",
      "15.0\n",
      "10.0\n",
      "10.0\n",
      "16.0\n",
      "11.0\n",
      "19.0\n",
      "13.0\n",
      "19.0\n",
      "19.0\n",
      "12.0\n",
      "13.0\n",
      "16.0\n",
      "14.0\n",
      "22.0\n",
      "13.0\n",
      "16.0\n",
      "14.0\n",
      "11.0\n",
      "13.0\n",
      "15.0\n",
      "13.0\n",
      "14.0\n",
      "22.0\n",
      "19.0\n",
      "15.0\n",
      "28.0\n",
      "10.0\n",
      "12.0\n",
      "18.0\n",
      "14.0\n",
      "19.0\n",
      "12.0\n",
      "13.0\n",
      "18.0\n",
      "12.0\n",
      "11.0\n",
      "14.0\n",
      "11.0\n",
      "12.0\n",
      "28.0\n",
      "19.0\n",
      "14.0\n",
      "19.0\n",
      "12.0\n",
      "16.0\n",
      "21.0\n",
      "21.0\n",
      "14.0\n",
      "15.0\n",
      "14.0\n",
      "10.0\n",
      "17.0\n",
      "15.0\n",
      "14.0\n",
      "13.0\n",
      "10.0\n",
      "10.0\n",
      "13.0\n",
      "11.0\n",
      "15.0\n",
      "10.0\n",
      "16.0\n",
      "16.0\n",
      "11.0\n",
      "18.0\n",
      "16.0\n",
      "16.0\n",
      "17.0\n",
      "18.0\n",
      "15.0\n",
      "14.0\n",
      "15.0\n",
      "17.0\n",
      "16.0\n",
      "16.0\n",
      "12.0\n",
      "16.0\n",
      "11.0\n",
      "13.0\n",
      "11.0\n",
      "17.0\n",
      "12.0\n",
      "12.0\n",
      "12.0\n",
      "12.0\n",
      "14.0\n",
      "14.0\n",
      "13.0\n",
      "14.0\n",
      "12.0\n",
      "15.0\n",
      "17.0\n",
      "14.0\n",
      "16.0\n",
      "14.0\n",
      "14.0\n",
      "21.0\n",
      "17.0\n",
      "11.0\n",
      "14.0\n",
      "18.0\n",
      "10.0\n",
      "12.0\n",
      "17.0\n",
      "16.0\n",
      "27.0\n",
      "13.0\n",
      "17.0\n",
      "15.0\n",
      "16.0\n",
      "15.0\n",
      "15.0\n",
      "11.0\n",
      "17.0\n",
      "9.0\n",
      "18.0\n",
      "18.0\n",
      "16.0\n",
      "15.0\n",
      "20.0\n",
      "19.0\n",
      "12.0\n",
      "10.0\n",
      "11.0\n",
      "11.0\n",
      "14.0\n",
      "10.0\n",
      "14.0\n",
      "14.0\n",
      "13.0\n",
      "17.0\n",
      "18.0\n",
      "16.0\n",
      "14.0\n",
      "14.0\n",
      "20.0\n",
      "16.0\n",
      "15.0\n",
      "17.0\n",
      "15.0\n",
      "19.0\n",
      "18.0\n",
      "12.0\n",
      "19.0\n",
      "10.0\n",
      "12.0\n",
      "18.0\n",
      "13.0\n",
      "13.0\n",
      "15.0\n",
      "17.0\n",
      "16.0\n",
      "18.0\n",
      "18.0\n",
      "13.0\n",
      "19.0\n",
      "15.0\n",
      "15.0\n",
      "15.0\n",
      "14.0\n",
      "17.0\n",
      "14.0\n",
      "15.0\n",
      "10.0\n",
      "15.0\n",
      "11.0\n",
      "10.0\n",
      "15.0\n",
      "16.0\n",
      "15.0\n",
      "16.0\n",
      "10.0\n",
      "20.0\n",
      "11.0\n",
      "16.0\n",
      "10.0\n",
      "15.0\n",
      "14.0\n",
      "14.0\n",
      "11.0\n",
      "17.0\n",
      "13.0\n",
      "17.0\n",
      "13.0\n",
      "14.0\n",
      "19.0\n",
      "10.0\n",
      "11.0\n",
      "10.0\n",
      "10.0\n",
      "13.0\n",
      "16.0\n",
      "16.0\n",
      "18.0\n",
      "18.0\n",
      "16.0\n",
      "13.0\n",
      "13.0\n",
      "13.0\n",
      "15.0\n",
      "17.0\n",
      "13.0\n",
      "15.0\n",
      "14.0\n",
      "13.0\n",
      "15.0\n",
      "13.0\n",
      "12.0\n",
      "19.0\n",
      "10.0\n",
      "11.0\n",
      "15.0\n",
      "18.0\n",
      "15.0\n",
      "14.0\n",
      "14.0\n",
      "14.0\n",
      "17.0\n",
      "15.0\n",
      "19.0\n",
      "13.0\n",
      "13.0\n",
      "12.0\n",
      "10.0\n",
      "14.0\n",
      "13.0\n",
      "15.0\n",
      "14.0\n",
      "13.0\n",
      "17.0\n",
      "12.0\n",
      "16.0\n",
      "15.0\n",
      "14.0\n",
      "12.0\n",
      "15.0\n",
      "14.0\n",
      "16.0\n",
      "10.0\n",
      "10.0\n",
      "15.0\n",
      "11.0\n",
      "14.0\n",
      "13.0\n",
      "18.0\n",
      "15.0\n",
      "11.0\n",
      "19.0\n",
      "13.0\n",
      "17.0\n",
      "13.0\n",
      "13.0\n",
      "13.0\n",
      "14.0\n",
      "19.0\n",
      "13.0\n",
      "19.0\n",
      "15.0\n",
      "15.0\n",
      "16.0\n",
      "11.0\n",
      "12.0\n",
      "18.0\n",
      "14.0\n",
      "17.0\n",
      "17.0\n",
      "16.0\n",
      "18.0\n",
      "12.0\n",
      "13.0\n",
      "15.0\n",
      "19.0\n",
      "16.0\n",
      "11.0\n",
      "11.0\n",
      "15.0\n",
      "13.0\n",
      "11.0\n",
      "13.0\n",
      "14.0\n",
      "13.0\n",
      "16.0\n",
      "11.0\n",
      "13.0\n",
      "12.0\n",
      "13.0\n",
      "15.0\n",
      "14.0\n",
      "15.0\n",
      "18.0\n",
      "13.0\n",
      "15.0\n",
      "11.0\n",
      "11.0\n",
      "17.0\n",
      "15.0\n",
      "15.0\n",
      "14.0\n",
      "14.0\n",
      "18.0\n",
      "11.0\n",
      "16.0\n",
      "13.0\n",
      "15.0\n",
      "10.0\n",
      "9.0\n",
      "14.0\n",
      "12.0\n",
      "17.0\n",
      "19.0\n",
      "15.0\n",
      "17.0\n",
      "12.0\n",
      "13.0\n",
      "17.0\n",
      "15.0\n",
      "14.0\n",
      "17.0\n",
      "15.0\n",
      "19.0\n",
      "15.0\n",
      "18.0\n",
      "14.0\n",
      "13.0\n",
      "14.0\n",
      "15.0\n",
      "11.0\n",
      "14.0\n",
      "19.0\n",
      "19.0\n",
      "15.0\n",
      "14.0\n",
      "10.0\n",
      "12.0\n",
      "13.0\n",
      "16.0\n",
      "15.0\n",
      "56.0\n",
      "14.0\n",
      "13.0\n",
      "11.0\n",
      "14.0\n",
      "13.0\n",
      "8.0\n",
      "10.0\n",
      "9.0\n",
      "9.0\n",
      "13.0\n",
      "12.0\n",
      "17.0\n",
      "15.0\n",
      "10.0\n",
      "12.0\n",
      "13.0\n",
      "12.0\n",
      "10.0\n",
      "10.0\n",
      "11.0\n",
      "16.0\n",
      "15.0\n",
      "12.0\n",
      "9.0\n",
      "14.0\n",
      "14.0\n",
      "12.0\n",
      "10.0\n",
      "16.0\n",
      "12.0\n",
      "10.0\n",
      "17.0\n",
      "12.0\n",
      "17.0\n",
      "11.0\n",
      "16.0\n",
      "10.0\n",
      "12.0\n",
      "14.0\n",
      "14.0\n",
      "14.0\n",
      "15.0\n",
      "11.0\n",
      "18.0\n",
      "10.0\n",
      "15.0\n",
      "12.0\n",
      "14.0\n",
      "15.0\n",
      "17.0\n",
      "17.0\n",
      "14.0\n",
      "12.0\n",
      "13.0\n",
      "14.0\n",
      "13.0\n",
      "11.0\n",
      "14.0\n",
      "14.0\n",
      "13.0\n",
      "13.0\n",
      "18.0\n",
      "17.0\n",
      "13.0\n",
      "12.0\n",
      "10.0\n",
      "14.0\n",
      "12.0\n",
      "14.0\n",
      "15.0\n",
      "10.0\n",
      "15.0\n",
      "16.0\n",
      "14.0\n",
      "13.0\n",
      "15.0\n",
      "11.0\n",
      "14.0\n",
      "16.0\n",
      "10.0\n",
      "14.0\n",
      "14.0\n",
      "13.0\n",
      "10.0\n",
      "12.0\n",
      "15.0\n",
      "13.0\n"
     ]
    }
   ],
   "source": [
    "trainer.fit(agent, \"CartPole-v0\")"
   ]
  },
  {
   "cell_type": "code",
   "execution_count": 14,
   "id": "a94e0317",
   "metadata": {},
   "outputs": [
    {
     "data": {
      "text/plain": [
       "<matplotlib.image.AxesImage at 0x7f3074583ac0>"
      ]
     },
     "execution_count": 14,
     "metadata": {},
     "output_type": "execute_result"
    },
    {
     "data": {
      "image/png": "[encoded data removed]",
      "text/plain": [
       "<Figure size 432x288 with 1 Axes>"
      ]
     },
     "metadata": {
      "needs_background": "light"
     },
     "output_type": "display_data"
    }
   ],
   "source": [
    "plt.imshow(agent.actor.connections[(\"In\", \"Out\")].w.numpy().T)"
   ]
  },
  {
   "cell_type": "code",
   "execution_count": 56,
   "id": "7432788f",
   "metadata": {},
   "outputs": [
    {
     "data": {
      "text/plain": [
       "<matplotlib.image.AxesImage at 0x7f8980ee0af0>"
      ]
     },
     "execution_count": 56,
     "metadata": {},
     "output_type": "execute_result"
    },
    {
     "data": {
      "image/png": "[encoded data removed]",
      "text/plain": [
       "<Figure size 432x288 with 1 Axes>"
      ]
     },
     "metadata": {
      "needs_background": "light"
     },
     "output_type": "display_data"
    }
   ],
   "source": [
    "plt.imshow(agent.actor.connections[(\"In\", \"Out\")].w.numpy().T)"
   ]
  },
  {
   "cell_type": "code",
   "execution_count": 18,
   "id": "246ac597",
   "metadata": {},
   "outputs": [
    {
     "data": {
      "text/plain": [
       "<matplotlib.image.AxesImage at 0x7f307439ee50>"
      ]
     },
     "execution_count": 18,
     "metadata": {},
     "output_type": "execute_result"
    },
    {
     "data": {
      "image/png": "[encoded data removed]",
      "text/plain": [
       "<Figure size 432x288 with 1 Axes>"
      ]
     },
     "metadata": {
      "needs_background": "light"
     },
     "output_type": "display_data"
    }
   ],
   "source": [
    "plt.imshow(agent.actor.monitors[\"In\"].get(\"s\").view(100, -1).t())"
   ]
  },
  {
   "cell_type": "code",
   "execution_count": null,
   "id": "dd3e7705",
   "metadata": {},
   "outputs": [],
   "source": []
  },
  {
   "cell_type": "code",
   "execution_count": 24,
   "id": "94d7e8d1",
   "metadata": {},
   "outputs": [],
   "source": [
    "episode = trainer.play_episode(agent, \"CartPole-v0\", render=True)"
   ]
  },
  {
   "cell_type": "code",
   "execution_count": 25,
   "id": "aedb3c6f",
   "metadata": {},
   "outputs": [
    {
     "data": {
      "text/plain": [
       "[1, 1, 1, 1, 0, 1, 1, 0, 1]"
      ]
     },
     "execution_count": 25,
     "metadata": {},
     "output_type": "execute_result"
    }
   ],
   "source": [
    "[t.action for t in episode.transitions]"
   ]
  },
  {
   "cell_type": "code",
   "execution_count": 26,
   "id": "ea142b12",
   "metadata": {},
   "outputs": [
    {
     "data": {
      "text/plain": [
       "(array([2., 0., 0., 0., 0., 0., 0., 0., 0., 7.]),\n",
       " array([0. , 0.1, 0.2, 0.3, 0.4, 0.5, 0.6, 0.7, 0.8, 0.9, 1. ]),\n",
       " <BarContainer object of 10 artists>)"
      ]
     },
     "execution_count": 26,
     "metadata": {},
     "output_type": "execute_result"
    },
    {
     "data": {
      "image/png": "[encoded data removed]",
      "text/plain": [
       "<Figure size 432x288 with 1 Axes>"
      ]
     },
     "metadata": {
      "needs_background": "light"
     },
     "output_type": "display_data"
    }
   ],
   "source": [
    "plt.hist([t.action for t in episode.transitions], bins=10)"
   ]
  },
  {
   "cell_type": "code",
   "execution_count": 27,
   "id": "d33826e8",
   "metadata": {},
   "outputs": [],
   "source": [
    "transition = episode.transitions[-1]"
   ]
  },
  {
   "cell_type": "code",
   "execution_count": null,
   "id": "e955644e",
   "metadata": {},
   "outputs": [],
   "source": []
  },
  {
   "cell_type": "code",
   "execution_count": 28,
   "id": "7dce14c8",
   "metadata": {},
   "outputs": [
    {
     "data": {
      "text/plain": [
       "1"
      ]
     },
     "execution_count": 28,
     "metadata": {},
     "output_type": "execute_result"
    }
   ],
   "source": [
    "agent.run_actor(\n",
    "    observation=torch.from_numpy(transition.observation),\n",
    ")"
   ]
  },
  {
   "cell_type": "code",
   "execution_count": 29,
   "id": "d2739d3a",
   "metadata": {},
   "outputs": [
    {
     "data": {
      "text/plain": [
       "-39.0"
      ]
     },
     "execution_count": 29,
     "metadata": {},
     "output_type": "execute_result"
    }
   ],
   "source": [
    "trainer.compute_delta(\n",
    "    agent,\n",
    "    observation=torch.from_numpy(transition.observation),\n",
    "    prev_observation=torch.from_numpy(transition.prev_observation),\n",
    "    reward=transition.reward,\n",
    "    done=transition.done\n",
    ")"
   ]
  },
  {
   "cell_type": "code",
   "execution_count": 30,
   "id": "7bbb8d22",
   "metadata": {},
   "outputs": [
    {
     "data": {
      "text/plain": [
       "12.000000476837158"
      ]
     },
     "execution_count": 30,
     "metadata": {},
     "output_type": "execute_result"
    }
   ],
   "source": [
    "agent.run_critic(torch.from_numpy(transition.observation))"
   ]
  },
  {
   "cell_type": "code",
   "execution_count": 31,
   "id": "ba5f720f",
   "metadata": {},
   "outputs": [
    {
     "data": {
      "text/plain": [
       "40.0"
      ]
     },
     "execution_count": 31,
     "metadata": {},
     "output_type": "execute_result"
    }
   ],
   "source": [
    "agent.run_prev_critic(torch.from_numpy(transition.prev_observation))"
   ]
  },
  {
   "cell_type": "code",
   "execution_count": 54,
   "id": "dc19dfa6",
   "metadata": {},
   "outputs": [
    {
     "data": {
      "text/plain": [
       "<matplotlib.image.AxesImage at 0x7fec0941a7f0>"
      ]
     },
     "execution_count": 54,
     "metadata": {},
     "output_type": "execute_result"
    },
    {
     "data": {
      "image/png": "[encoded data removed]",
      "text/plain": [
       "<Figure size 432x288 with 1 Axes>"
      ]
     },
     "metadata": {
      "needs_background": "light"
     },
     "output_type": "display_data"
    }
   ],
   "source": [
    "plt.imshow(agent.critique.monitors[\"Out\"].get(\"s\").view(100, -1).t())"
   ]
  },
  {
   "cell_type": "code",
   "execution_count": null,
   "id": "12f650db",
   "metadata": {},
   "outputs": [],
   "source": []
  },
  {
   "cell_type": "code",
   "execution_count": null,
   "id": "fad99ca5",
   "metadata": {},
   "outputs": [],
   "source": []
  },
  {
   "cell_type": "code",
   "execution_count": null,
   "id": "08ee2e17",
   "metadata": {},
   "outputs": [],
   "source": []
  },
  {
   "cell_type": "code",
   "execution_count": null,
   "id": "c264047a",
   "metadata": {},
   "outputs": [],
   "source": [
    "agent.actor.monitors[\"Out\"].get(\"s\").squeeze(1).sum()"
   ]
  },
  {
   "cell_type": "code",
   "execution_count": null,
   "id": "5fd43073",
   "metadata": {},
   "outputs": [],
   "source": [
    "agent.actor.connections[(\"In\", \"l1\")].w.numpy().mean()"
   ]
  },
  {
   "cell_type": "code",
   "execution_count": null,
   "id": "151c259c",
   "metadata": {},
   "outputs": [],
   "source": [
    "agent.actor.layers[\"Out\"].shape"
   ]
  },
  {
   "cell_type": "code",
   "execution_count": null,
   "id": "4c8f3c23",
   "metadata": {},
   "outputs": [],
   "source": [
    "clamp = torch.BoolTensor([0, 1])"
   ]
  },
  {
   "cell_type": "code",
   "execution_count": null,
   "id": "a9fced32",
   "metadata": {},
   "outputs": [],
   "source": [
    "clamp[..., 0] = 1"
   ]
  },
  {
   "cell_type": "code",
   "execution_count": null,
   "id": "15fca2a3",
   "metadata": {},
   "outputs": [],
   "source": [
    "clamp"
   ]
  },
  {
   "cell_type": "code",
   "execution_count": null,
   "id": "da7c5615",
   "metadata": {},
   "outputs": [],
   "source": []
  }
 ],
 "metadata": {
  "kernelspec": {
   "display_name": "Python 3 (ipykernel)",
   "language": "python",
   "name": "python3"
  },
  "language_info": {
   "codemirror_mode": {
    "name": "ipython",
    "version": 3
   },
   "file_extension": ".py",
   "mimetype": "text/x-python",
   "name": "python",
   "nbconvert_exporter": "python",
   "pygments_lexer": "ipython3",
   "version": "3.8.9"
  }
 },
 "nbformat": 4,
 "nbformat_minor": 5
}
