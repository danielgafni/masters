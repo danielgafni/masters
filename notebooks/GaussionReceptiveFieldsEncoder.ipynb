{
 "cells": [
  {
   "cell_type": "code",
   "execution_count": 1,
   "id": "a805b765",
   "metadata": {},
   "outputs": [],
   "source": [
    "from masters.env_wrapper import make_wrapped_env"
   ]
  },
  {
   "cell_type": "code",
   "execution_count": 2,
   "id": "a4c08a77",
   "metadata": {},
   "outputs": [],
   "source": [
    "import numpy as np\n",
    "import pandas as pd\n",
    "\n",
    "obs = []\n",
    "\n",
    "for _ in range(50):\n",
    "    done = False\n",
    "\n",
    "    env = make_wrapped_env(\"CartPole-v0\")\n",
    "    env.reset()\n",
    "    while not done:\n",
    "        observation, reward, done, info = env.step(np.random.randint(0, 2))\n",
    "\n",
    "        obs.append(observation)\n",
    "\n",
    "obs = np.array(obs)"
   ]
  },
  {
   "cell_type": "code",
   "execution_count": 3,
   "id": "0256b850",
   "metadata": {},
   "outputs": [
    {
     "data": {
      "text/html": [
       "<div>\n",
       "<style scoped>\n",
       "    .dataframe tbody tr th:only-of-type {\n",
       "        vertical-align: middle;\n",
       "    }\n",
       "\n",
       "    .dataframe tbody tr th {\n",
       "        vertical-align: top;\n",
       "    }\n",
       "\n",
       "    .dataframe thead th {\n",
       "        text-align: right;\n",
       "    }\n",
       "</style>\n",
       "<table border=\"1\" class=\"dataframe\">\n",
       "  <thead>\n",
       "    <tr style=\"text-align: right;\">\n",
       "      <th></th>\n",
       "      <th>0</th>\n",
       "      <th>1</th>\n",
       "      <th>2</th>\n",
       "      <th>3</th>\n",
       "    </tr>\n",
       "  </thead>\n",
       "  <tbody>\n",
       "    <tr>\n",
       "      <th>count</th>\n",
       "      <td>1079.000000</td>\n",
       "      <td>1079.000000</td>\n",
       "      <td>1079.000000</td>\n",
       "      <td>1079.000000</td>\n",
       "    </tr>\n",
       "    <tr>\n",
       "      <th>mean</th>\n",
       "      <td>-0.005215</td>\n",
       "      <td>0.054653</td>\n",
       "      <td>0.000334</td>\n",
       "      <td>-0.058137</td>\n",
       "    </tr>\n",
       "    <tr>\n",
       "      <th>std</th>\n",
       "      <td>0.073358</td>\n",
       "      <td>0.554714</td>\n",
       "      <td>0.103498</td>\n",
       "      <td>0.870524</td>\n",
       "    </tr>\n",
       "    <tr>\n",
       "      <th>min</th>\n",
       "      <td>-0.215594</td>\n",
       "      <td>-2.096367</td>\n",
       "      <td>-0.248406</td>\n",
       "      <td>-2.410608</td>\n",
       "    </tr>\n",
       "    <tr>\n",
       "      <th>25%</th>\n",
       "      <td>-0.052059</td>\n",
       "      <td>-0.339136</td>\n",
       "      <td>-0.058366</td>\n",
       "      <td>-0.610104</td>\n",
       "    </tr>\n",
       "    <tr>\n",
       "      <th>50%</th>\n",
       "      <td>-0.008764</td>\n",
       "      <td>0.036097</td>\n",
       "      <td>-0.001114</td>\n",
       "      <td>-0.048625</td>\n",
       "    </tr>\n",
       "    <tr>\n",
       "      <th>75%</th>\n",
       "      <td>0.035113</td>\n",
       "      <td>0.416690</td>\n",
       "      <td>0.056718</td>\n",
       "      <td>0.501915</td>\n",
       "    </tr>\n",
       "    <tr>\n",
       "      <th>max</th>\n",
       "      <td>0.357079</td>\n",
       "      <td>1.718405</td>\n",
       "      <td>0.246431</td>\n",
       "      <td>3.165024</td>\n",
       "    </tr>\n",
       "  </tbody>\n",
       "</table>\n",
       "</div>"
      ],
      "text/plain": [
       "                 0            1            2            3\n",
       "count  1079.000000  1079.000000  1079.000000  1079.000000\n",
       "mean     -0.005215     0.054653     0.000334    -0.058137\n",
       "std       0.073358     0.554714     0.103498     0.870524\n",
       "min      -0.215594    -2.096367    -0.248406    -2.410608\n",
       "25%      -0.052059    -0.339136    -0.058366    -0.610104\n",
       "50%      -0.008764     0.036097    -0.001114    -0.048625\n",
       "75%       0.035113     0.416690     0.056718     0.501915\n",
       "max       0.357079     1.718405     0.246431     3.165024"
      ]
     },
     "execution_count": 3,
     "metadata": {},
     "output_type": "execute_result"
    }
   ],
   "source": [
    "# примерный диапазон фичей (на самом деле плохое приближение, так как все они из околостартовой позиции)\n",
    "\n",
    "pd.DataFrame(obs).describe()"
   ]
  },
  {
   "cell_type": "code",
   "execution_count": 4,
   "id": "dc533639",
   "metadata": {},
   "outputs": [],
   "source": [
    "import torch\n",
    "from bindsnet.encoding.preprocessing import GaussianReceptiveFields, normal\n",
    "from typing import Dict\n",
    "from dataclasses import dataclass\n",
    "from bindsnet.encoding.encodings import poisson"
   ]
  },
  {
   "cell_type": "code",
   "execution_count": 5,
   "id": "b16ee4d4",
   "metadata": {},
   "outputs": [],
   "source": [
    "@dataclass\n",
    "class FeatureInfo:\n",
    "    min: float\n",
    "    max: float\n",
    "    n: int\n",
    "    scale: float"
   ]
  },
  {
   "cell_type": "code",
   "execution_count": 6,
   "id": "0427ad68",
   "metadata": {},
   "outputs": [],
   "source": [
    "class GaussianReceptiveFieldsEncoder:\n",
    "    def __init__(self, encoding_info: Dict[int, FeatureInfo], time: int = 100):\n",
    "        self.encoding_info = encoding_info\n",
    "        self.time = time\n",
    "        \n",
    "        self.fields = {}\n",
    "        for feature, info in encoding_info.items():\n",
    "            self.fields[feature] = GaussianReceptiveFields(info.min, info.max, info.n, info.scale)\n",
    "            \n",
    "    def __call__(self, x: torch.Tensor):\n",
    "        encoded_observations = {}\n",
    "        \n",
    "        for feature in self.fields:\n",
    "            encoded_observations[feature] = poisson(time=self.time, datum=self.fields[feature](observation[feature]) * 100)\n",
    "        \n",
    "        return encoded_observations"
   ]
  },
  {
   "cell_type": "code",
   "execution_count": 7,
   "id": "87a4c2e3",
   "metadata": {},
   "outputs": [],
   "source": [
    "encoding_info = {\n",
    "    0: FeatureInfo(min=-1, max=1, scale=0.05, n=20),\n",
    "    1: FeatureInfo(min=-2, max=2, scale=0.1, n=40),\n",
    "    2: FeatureInfo(min=-1, max=1, scale=0.05, n=20),\n",
    "    3: FeatureInfo(min=-10, max=10, scale=0.05, n=100)\n",
    "}"
   ]
  },
  {
   "cell_type": "code",
   "execution_count": 8,
   "id": "2f5e39f3",
   "metadata": {},
   "outputs": [],
   "source": [
    "encoder = GaussianReceptiveFieldsEncoder(encoding_info=encoding_info)"
   ]
  },
  {
   "cell_type": "code",
   "execution_count": 9,
   "id": "0c160a25",
   "metadata": {},
   "outputs": [],
   "source": [
    "observation = np.array([0.5, -1, 0.02, -6])"
   ]
  },
  {
   "cell_type": "code",
   "execution_count": 10,
   "id": "08348287",
   "metadata": {},
   "outputs": [
    {
     "data": {
      "text/plain": [
       "array([ 0.5 , -1.  ,  0.02, -6.  ])"
      ]
     },
     "execution_count": 10,
     "metadata": {},
     "output_type": "execute_result"
    }
   ],
   "source": [
    "observation"
   ]
  },
  {
   "cell_type": "code",
   "execution_count": 11,
   "id": "8cd41305",
   "metadata": {},
   "outputs": [],
   "source": [
    "encoded_observation = encoder(torch.from_numpy(observation))"
   ]
  },
  {
   "cell_type": "code",
   "execution_count": 12,
   "id": "1367fb11",
   "metadata": {},
   "outputs": [],
   "source": [
    "from matplotlib import pyplot as plt"
   ]
  },
  {
   "cell_type": "code",
   "execution_count": 13,
   "id": "77871381",
   "metadata": {},
   "outputs": [
    {
     "data": {
      "text/plain": [
       "<matplotlib.image.AxesImage at 0x7ff7209b7100>"
      ]
     },
     "execution_count": 13,
     "metadata": {},
     "output_type": "execute_result"
    },
    {
     "data": {
      "image/png": "[encoded data removed]",
      "text/plain": [
       "<Figure size 432x288 with 1 Axes>"
      ]
     },
     "metadata": {
      "needs_background": "light"
     },
     "output_type": "display_data"
    }
   ],
   "source": [
    "plt.imshow(encoded_observation[0])"
   ]
  },
  {
   "cell_type": "code",
   "execution_count": 14,
   "id": "76056806",
   "metadata": {},
   "outputs": [
    {
     "data": {
      "text/plain": [
       "<matplotlib.image.AxesImage at 0x7ff8491b5910>"
      ]
     },
     "execution_count": 14,
     "metadata": {},
     "output_type": "execute_result"
    },
    {
     "data": {
      "image/png": "[encoded data removed]",
      "text/plain": [
       "<Figure size 432x288 with 1 Axes>"
      ]
     },
     "metadata": {
      "needs_background": "light"
     },
     "output_type": "display_data"
    }
   ],
   "source": [
    "plt.imshow(encoded_observation[1])"
   ]
  },
  {
   "cell_type": "code",
   "execution_count": 15,
   "id": "fc8d18ef",
   "metadata": {},
   "outputs": [
    {
     "data": {
      "text/plain": [
       "<matplotlib.image.AxesImage at 0x7ff84912a100>"
      ]
     },
     "execution_count": 15,
     "metadata": {},
     "output_type": "execute_result"
    },
    {
     "data": {
      "image/png": "[encoded data removed]",
      "text/plain": [
       "<Figure size 432x288 with 1 Axes>"
      ]
     },
     "metadata": {
      "needs_background": "light"
     },
     "output_type": "display_data"
    }
   ],
   "source": [
    "plt.imshow(encoded_observation[2])"
   ]
  },
  {
   "cell_type": "code",
   "execution_count": 16,
   "id": "b0ce1992",
   "metadata": {},
   "outputs": [
    {
     "data": {
      "text/plain": [
       "<matplotlib.image.AxesImage at 0x7ff849089640>"
      ]
     },
     "execution_count": 16,
     "metadata": {},
     "output_type": "execute_result"
    },
    {
     "data": {
      "image/png": "[encoded data removed]",
      "text/plain": [
       "<Figure size 432x288 with 1 Axes>"
      ]
     },
     "metadata": {
      "needs_background": "light"
     },
     "output_type": "display_data"
    }
   ],
   "source": [
    "plt.imshow(encoded_observation[3])"
   ]
  },
  {
   "cell_type": "code",
   "execution_count": null,
   "id": "d00ba1e7",
   "metadata": {},
   "outputs": [],
   "source": []
  }
 ],
 "metadata": {
  "kernelspec": {
   "display_name": "Python 3 (ipykernel)",
   "language": "python",
   "name": "python3"
  },
  "language_info": {
   "codemirror_mode": {
    "name": "ipython",
    "version": 3
   },
   "file_extension": ".py",
   "mimetype": "text/x-python",
   "name": "python",
   "nbconvert_exporter": "python",
   "pygments_lexer": "ipython3",
   "version": "3.8.9"
  }
 },
 "nbformat": 4,
 "nbformat_minor": 5
}
